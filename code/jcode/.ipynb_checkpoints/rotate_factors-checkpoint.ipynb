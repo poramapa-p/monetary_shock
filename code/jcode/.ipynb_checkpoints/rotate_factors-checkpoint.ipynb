{
 "cells": [
  {
   "cell_type": "code",
   "execution_count": 1,
   "id": "185d48ab",
   "metadata": {},
   "outputs": [
    {
     "name": "stderr",
     "output_type": "stream",
     "text": [
      "\u001b[32m\u001b[1m  Activating\u001b[22m\u001b[39m project at `C:\\Users\\copyl\\Desktop\\DNB\\replication\\code\\jcode\\base_path`\n",
      "\u001b[32m\u001b[1m    Updating\u001b[22m\u001b[39m registry at `C:\\Users\\copyl\\.julia\\registries\\General.toml`\n",
      "\u001b[32m\u001b[1m  No Changes\u001b[22m\u001b[39m to `C:\\Users\\copyl\\Desktop\\DNB\\replication\\code\\jcode\\base_path\\Project.toml`\n",
      "\u001b[32m\u001b[1m  No Changes\u001b[22m\u001b[39m to `C:\\Users\\copyl\\Desktop\\DNB\\replication\\code\\jcode\\base_path\\Manifest.toml`\n"
     ]
    }
   ],
   "source": [
    "base_path = readlines(\"dir.conf\")[1]\n",
    "code_path = joinpath(base_path, \"code/jcode\")\n",
    "data_path = joinpath(base_path, \"data\")\n",
    "using Pkg\n",
    "Pkg.activate(\"base_path\")\n",
    "Pkg.instantiate()\n",
    "Pkg.update()\n",
    "## --- Load packages -----------------------------------------------------------\n",
    "using Factotum\n",
    "using MathProgBase\n",
    "using ForwardDiff\n",
    "using Ipopt\n",
    "using DataFrames\n",
    "using CSV\n",
    "using Statistics\n",
    "using LinearAlgebra\n",
    "using Dates\n"
   ]
  },
  {
   "cell_type": "code",
   "execution_count": 14,
   "id": "9cd9e688",
   "metadata": {},
   "outputs": [
    {
     "data": {
      "text/plain": [
       "rotate3 (generic function with 1 method)"
      ]
     },
     "execution_count": 14,
     "metadata": {},
     "output_type": "execute_result"
    }
   ],
   "source": [
    "include(joinpath(code_path,\"00rotate_helpers.jl\"))"
   ]
  },
  {
   "cell_type": "code",
   "execution_count": 15,
   "id": "7447f43c",
   "metadata": {},
   "outputs": [
    {
     "data": {
      "text/html": [
       "<div><div style = \"float: left;\"><span>36×1 DataFrame</span></div><div style = \"float: right;\"><span style = \"font-style: italic;\">11 rows omitted</span></div><div style = \"clear: both;\"></div></div><div class = \"data-frame\" style = \"overflow-x: scroll;\"><table class = \"data-frame\" style = \"margin-bottom: 6px;\"><thead><tr class = \"header\"><th class = \"rowNumber\" style = \"font-weight: bold; text-align: right;\">Row</th><th style = \"text-align: left;\">Column1</th></tr><tr class = \"subheader headerLastRow\"><th class = \"rowNumber\" style = \"font-weight: bold; text-align: right;\"></th><th title = \"Date\" style = \"text-align: left;\">Date</th></tr></thead><tbody><tr><td class = \"rowNumber\" style = \"font-weight: bold; text-align: right;\">1</td><td style = \"text-align: left;\">2019-01-24</td></tr><tr><td class = \"rowNumber\" style = \"font-weight: bold; text-align: right;\">2</td><td style = \"text-align: left;\">2019-03-07</td></tr><tr><td class = \"rowNumber\" style = \"font-weight: bold; text-align: right;\">3</td><td style = \"text-align: left;\">2019-04-10</td></tr><tr><td class = \"rowNumber\" style = \"font-weight: bold; text-align: right;\">4</td><td style = \"text-align: left;\">2019-06-06</td></tr><tr><td class = \"rowNumber\" style = \"font-weight: bold; text-align: right;\">5</td><td style = \"text-align: left;\">2019-07-25</td></tr><tr><td class = \"rowNumber\" style = \"font-weight: bold; text-align: right;\">6</td><td style = \"text-align: left;\">2019-09-12</td></tr><tr><td class = \"rowNumber\" style = \"font-weight: bold; text-align: right;\">7</td><td style = \"text-align: left;\">2019-10-24</td></tr><tr><td class = \"rowNumber\" style = \"font-weight: bold; text-align: right;\">8</td><td style = \"text-align: left;\">2019-12-12</td></tr><tr><td class = \"rowNumber\" style = \"font-weight: bold; text-align: right;\">9</td><td style = \"text-align: left;\">2020-01-23</td></tr><tr><td class = \"rowNumber\" style = \"font-weight: bold; text-align: right;\">10</td><td style = \"text-align: left;\">2020-03-12</td></tr><tr><td class = \"rowNumber\" style = \"font-weight: bold; text-align: right;\">11</td><td style = \"text-align: left;\">2020-04-30</td></tr><tr><td class = \"rowNumber\" style = \"font-weight: bold; text-align: right;\">12</td><td style = \"text-align: left;\">2020-06-04</td></tr><tr><td class = \"rowNumber\" style = \"font-weight: bold; text-align: right;\">13</td><td style = \"text-align: left;\">2020-07-16</td></tr><tr><td style = \"text-align: right;\">&vellip;</td><td style = \"text-align: right;\">&vellip;</td></tr><tr><td class = \"rowNumber\" style = \"font-weight: bold; text-align: right;\">25</td><td style = \"text-align: left;\">2022-02-03</td></tr><tr><td class = \"rowNumber\" style = \"font-weight: bold; text-align: right;\">26</td><td style = \"text-align: left;\">2022-03-10</td></tr><tr><td class = \"rowNumber\" style = \"font-weight: bold; text-align: right;\">27</td><td style = \"text-align: left;\">2022-04-14</td></tr><tr><td class = \"rowNumber\" style = \"font-weight: bold; text-align: right;\">28</td><td style = \"text-align: left;\">2022-06-09</td></tr><tr><td class = \"rowNumber\" style = \"font-weight: bold; text-align: right;\">29</td><td style = \"text-align: left;\">2022-07-21</td></tr><tr><td class = \"rowNumber\" style = \"font-weight: bold; text-align: right;\">30</td><td style = \"text-align: left;\">2022-09-08</td></tr><tr><td class = \"rowNumber\" style = \"font-weight: bold; text-align: right;\">31</td><td style = \"text-align: left;\">2022-10-27</td></tr><tr><td class = \"rowNumber\" style = \"font-weight: bold; text-align: right;\">32</td><td style = \"text-align: left;\">2022-12-15</td></tr><tr><td class = \"rowNumber\" style = \"font-weight: bold; text-align: right;\">33</td><td style = \"text-align: left;\">2023-02-02</td></tr><tr><td class = \"rowNumber\" style = \"font-weight: bold; text-align: right;\">34</td><td style = \"text-align: left;\">2023-03-16</td></tr><tr><td class = \"rowNumber\" style = \"font-weight: bold; text-align: right;\">35</td><td style = \"text-align: left;\">2023-05-04</td></tr><tr><td class = \"rowNumber\" style = \"font-weight: bold; text-align: right;\">36</td><td style = \"text-align: left;\">2023-06-15</td></tr></tbody></table></div>"
      ],
      "text/latex": [
       "\\begin{tabular}{r|c}\n",
       "\t& Column1\\\\\n",
       "\t\\hline\n",
       "\t& Date\\\\\n",
       "\t\\hline\n",
       "\t1 & 2019-01-24 \\\\\n",
       "\t2 & 2019-03-07 \\\\\n",
       "\t3 & 2019-04-10 \\\\\n",
       "\t4 & 2019-06-06 \\\\\n",
       "\t5 & 2019-07-25 \\\\\n",
       "\t6 & 2019-09-12 \\\\\n",
       "\t7 & 2019-10-24 \\\\\n",
       "\t8 & 2019-12-12 \\\\\n",
       "\t9 & 2020-01-23 \\\\\n",
       "\t10 & 2020-03-12 \\\\\n",
       "\t11 & 2020-04-30 \\\\\n",
       "\t12 & 2020-06-04 \\\\\n",
       "\t13 & 2020-07-16 \\\\\n",
       "\t14 & 2020-09-10 \\\\\n",
       "\t15 & 2020-10-29 \\\\\n",
       "\t16 & 2020-12-10 \\\\\n",
       "\t17 & 2021-01-21 \\\\\n",
       "\t18 & 2021-03-11 \\\\\n",
       "\t19 & 2021-04-22 \\\\\n",
       "\t20 & 2021-06-10 \\\\\n",
       "\t21 & 2021-07-22 \\\\\n",
       "\t22 & 2021-09-09 \\\\\n",
       "\t23 & 2021-10-28 \\\\\n",
       "\t24 & 2021-12-16 \\\\\n",
       "\t25 & 2022-02-03 \\\\\n",
       "\t26 & 2022-03-10 \\\\\n",
       "\t27 & 2022-04-14 \\\\\n",
       "\t28 & 2022-06-09 \\\\\n",
       "\t29 & 2022-07-21 \\\\\n",
       "\t30 & 2022-09-08 \\\\\n",
       "\t$\\dots$ & $\\dots$ \\\\\n",
       "\\end{tabular}\n"
      ],
      "text/plain": [
       "\u001b[1m36×1 DataFrame\u001b[0m\n",
       "\u001b[1m Row \u001b[0m│\u001b[1m Column1    \u001b[0m\n",
       "     │\u001b[90m Date       \u001b[0m\n",
       "─────┼────────────\n",
       "   1 │ 2019-01-24\n",
       "   2 │ 2019-03-07\n",
       "   3 │ 2019-04-10\n",
       "   4 │ 2019-06-06\n",
       "   5 │ 2019-07-25\n",
       "   6 │ 2019-09-12\n",
       "   7 │ 2019-10-24\n",
       "   8 │ 2019-12-12\n",
       "   9 │ 2020-01-23\n",
       "  10 │ 2020-03-12\n",
       "  11 │ 2020-04-30\n",
       "  ⋮  │     ⋮\n",
       "  27 │ 2022-04-14\n",
       "  28 │ 2022-06-09\n",
       "  29 │ 2022-07-21\n",
       "  30 │ 2022-09-08\n",
       "  31 │ 2022-10-27\n",
       "  32 │ 2022-12-15\n",
       "  33 │ 2023-02-02\n",
       "  34 │ 2023-03-16\n",
       "  35 │ 2023-05-04\n",
       "  36 │ 2023-06-15\n",
       "\u001b[36m   15 rows omitted\u001b[0m"
      ]
     },
     "execution_count": 15,
     "metadata": {},
     "output_type": "execute_result"
    }
   ],
   "source": [
    "## --- Load data -----------------------------------------------------------\n",
    "\n",
    "Xrel = CSV.read(joinpath(data_path,\"Xrel.csv\"), DataFrame;header=false)\n",
    "Drel = CSV.read(joinpath(data_path,\"Drel.csv\"), DataFrame;header=false)\n",
    "\n",
    "Xcon = CSV.read(joinpath(data_path,\"Xcon.csv\"), DataFrame;header=false)\n",
    "Dcon = CSV.read(joinpath(data_path,\"Dcon.csv\"), DataFrame;header=false)\n"
   ]
  },
  {
   "cell_type": "code",
   "execution_count": 16,
   "id": "62df424d",
   "metadata": {},
   "outputs": [
    {
     "name": "stdout",
     "output_type": "stream",
     "text": [
      "\n",
      "\u001b[32mStatic Factor Model\u001b[39m\n",
      "Dimensions of X..........: (36, 7)\n",
      "Number of factors........: 7\n",
      "Factors calculated by....: Principal Component\n",
      "\u001b[32mFactors' importance:\u001b[39m\n",
      "────────────────────────────────────────────────────────────────────────────────────────────────────────────\n",
      "                          Factor_1    Factor_2   Factor_3     Factor_4    Factor_5     Factor_6     Factor_7\n",
      "────────────────────────────────────────────────────────────────────────────────────────────────────────────\n",
      "Standard deviation      330.549     235.078     71.2408    40.2776      16.1133     9.3735       6.9458\n",
      "Proportion of Variance    0.636663    0.322005   0.029573   0.00945292   0.0015129  0.000511966  0.000281114\n",
      "Cumulative Proportion     0.636663    0.958668   0.988241   0.997694     0.999207   0.999719     1.0\n",
      "────────────────────────────────────────────────────────────────────────────────────────────────────────────"
     ]
    },
    {
     "ename": "LoadError",
     "evalue": "UndefVarError: Criteria not defined",
     "output_type": "error",
     "traceback": [
      "UndefVarError: Criteria not defined",
      "",
      "Stacktrace:",
      " [1] rotate3(X::Matrix{Float64}, DATE::DataFrame, date::Date; scaleby::Tuple{Symbol, Symbol})",
      "   @ Main C:\\Users\\copyl\\Desktop\\DNB\\replication\\code\\jcode\\00rotate_helpers.jl:78",
      " [2] rotate3(X::Matrix{Float64}, DATE::DataFrame, date::Date)",
      "   @ Main C:\\Users\\copyl\\Desktop\\DNB\\replication\\code\\jcode\\00rotate_helpers.jl:64",
      " [3] top-level scope",
      "   @ In[16]:2"
     ]
    }
   ],
   "source": [
    "## --- Rotate factor -----------------------------------------------------------\n",
    "RotatedOutput_rel = rotate3(Matrix(Xrel), Drel, Date(2019, 01, 24))"
   ]
  },
  {
   "cell_type": "markdown",
   "id": "a8b37c81",
   "metadata": {},
   "source": []
  },
  {
   "cell_type": "code",
   "execution_count": null,
   "id": "feaad1c9",
   "metadata": {},
   "outputs": [],
   "source": []
  },
  {
   "cell_type": "code",
   "execution_count": null,
   "id": "06382c8e",
   "metadata": {},
   "outputs": [],
   "source": []
  }
 ],
 "metadata": {
  "kernelspec": {
   "display_name": "Julia 1.7.2",
   "language": "julia",
   "name": "julia-1.7"
  },
  "language_info": {
   "file_extension": ".jl",
   "mimetype": "application/julia",
   "name": "julia",
   "version": "1.7.2"
  }
 },
 "nbformat": 4,
 "nbformat_minor": 5
}
